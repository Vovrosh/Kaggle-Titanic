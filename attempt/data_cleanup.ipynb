{
 "cells": [
  {
   "cell_type": "markdown",
   "id": "0d75d56d",
   "metadata": {},
   "source": [
    "In the following we attempt to fill in the gaps of the data with 0"
   ]
  },
  {
   "cell_type": "markdown",
   "id": "8c8de087",
   "metadata": {},
   "source": [
    "Import packages and raw_training data:"
   ]
  },
  {
   "cell_type": "code",
   "execution_count": 1,
   "id": "5add867a",
   "metadata": {},
   "outputs": [],
   "source": [
    "import math\n",
    "import numpy as np\n",
    "import pandas as pd\n",
    "import os\n",
    "import re\n",
    "\n",
    "os.chdir(r\"c:\\Users\\JosephVovrosh\\personal_git\\Kaggle-Titanic\")\n",
    "df_train_raw = pd.read_csv('data/train.csv')\n",
    "df_test_raw = pd.read_csv('data/test.csv')"
   ]
  },
  {
   "cell_type": "markdown",
   "id": "d5c0f3a0",
   "metadata": {},
   "source": [
    "In the following treatement of data we consider each type in a modular approach to allow for easy implementation of future improvements.\n",
    "\n",
    "Treatment:\n",
    "- Names: Get titles\n",
    "- Survived: unchanged\n",
    "- Pclass: unchanged\n",
    "- Sex: 0 for man, 1 for woman\n",
    "- Age: Group\n",
    "- SibSp: Use to create family sizes\n",
    "- Parch: Use to create family sizes\n",
    "- Ticket: Ignore for now\n",
    "- Fare: Group into amounts\n",
    "- Cabin: Split into Cabin and Cabin number\n",
    "- Embarked: 1 for C, 2 for S, 3 for Q"
   ]
  },
  {
   "cell_type": "code",
   "execution_count": 37,
   "id": "e4632bc6",
   "metadata": {},
   "outputs": [],
   "source": [
    "def get_missing_coordinates(df):\n",
    "    missing_coords = []\n",
    "    for row_idx, row in df.iterrows():\n",
    "        for col in df.columns:\n",
    "            if pd.isna(row[col]):\n",
    "                missing_coords.append((row_idx, col))\n",
    "    return missing_coords\n",
    "\n",
    "def get_cabin_letter(cabin):\n",
    "    if pd.isnull(cabin):\n",
    "        return np.nan\n",
    "    return cabin[0]\n",
    "\n",
    "def get_cabin_number(cabin):\n",
    "    if pd.isnull(cabin):\n",
    "        return -1\n",
    "    num = ''.join([c for c in cabin if c.isdigit()])\n",
    "    return int(num) if num else -1"
   ]
  },
  {
   "cell_type": "code",
   "execution_count": 38,
   "id": "d088aab3",
   "metadata": {},
   "outputs": [
    {
     "name": "stdout",
     "output_type": "stream",
     "text": [
      "# of training data missing after further clean up: 0\n"
     ]
    }
   ],
   "source": [
    "df_train = pd.DataFrame()\n",
    "\n",
    "df_train['Sex'] = pd.DataFrame({'Sex': df_train_raw['Sex'].map({'male': 0, 'female': 1})})\n",
    "\n",
    "df_train['Pclass'] = df_train_raw['Pclass']\n",
    "\n",
    "pattern = r\"\\b(Master|Mr|Mrs|Ms|Dr|Miss|Sir|Rev|Capt|Lady|Col|Countess|Don|Jonkheer|Major|Mlle|Mme)\\.\"\n",
    "vectorized_find = np.vectorize(lambda x: re.findall(pattern, x, flags=re.IGNORECASE), otypes=[object])\n",
    "titles_found = vectorized_find(np.array(df_train_raw['Name']))\n",
    "titles_only = [titles[0].capitalize() if titles else 'Unknown' for titles in titles_found]\n",
    "title_to_int = {title: i for i, title in enumerate(sorted(set(titles_only)))}\n",
    "title_encoded = [title_to_int[title] for title in titles_only]\n",
    "df_train['Title'] = title_encoded\n",
    "\n",
    "df_train_raw['Age'] = df_train_raw['Age'].fillna(-1)\n",
    "bins = np.arange(-5, df_train_raw['Age'].max() + 10, 5)\n",
    "labels = list(range(len(bins) - 1))\n",
    "df_train['Age'] = pd.cut(df_train_raw['Age'], bins=bins, labels=labels, right=False, include_lowest=True)\n",
    "\n",
    "df_train['FamilySize'] = df_train_raw['SibSp'] + df_train_raw['Parch']\n",
    "\n",
    "df_train_raw['Fare'] = df_train_raw['Fare'].fillna(-1)\n",
    "bins = np.arange(-20, df_train_raw['Fare'].max() + 20, 20)\n",
    "labels = list(range(len(bins) - 1))\n",
    "df_train['Fare'] = pd.cut(df_train_raw['Fare'], bins=bins, labels=labels, right=False, include_lowest=True)\n",
    "\n",
    "df_train['Cabin_Letter'] = df_train_raw['Cabin'].apply(get_cabin_letter)\n",
    "df_train['Cabin_Letter'] = df_train['Cabin_Letter'].astype('category').cat.codes\n",
    "df_train.loc[df_train['Cabin_Letter'].isnull(), 'Cabin_Letter'] = -1\n",
    "\n",
    "df_train['Cabin_Number'] = df_train_raw['Cabin'].apply(get_cabin_number)\n",
    "\n",
    "df_train_raw['Embarked'] = df_train_raw['Embarked'].fillna(-1)\n",
    "df_train['Embarked'] = pd.DataFrame({'Embarked': df_train_raw['Embarked'].map({-1: -1, 'C': 0, 'S': 1, 'Q': 2})})\n",
    "\n",
    "df_train['Survived'] = df_train_raw['Survived'] \n",
    "\n",
    "print(f\"# of training data missing after further clean up: {len(get_missing_coordinates(df_train))}\")"
   ]
  },
  {
   "cell_type": "code",
   "execution_count": 40,
   "id": "e56c330f",
   "metadata": {},
   "outputs": [
    {
     "name": "stdout",
     "output_type": "stream",
     "text": [
      "# of training data missing after further clean up: 0\n"
     ]
    }
   ],
   "source": [
    "df_test = pd.DataFrame()\n",
    "\n",
    "df_test['Sex'] = pd.DataFrame({'Sex': df_test_raw['Sex'].map({'male': 0, 'female': 1})})\n",
    "\n",
    "df_test['Pclass'] = df_test_raw['Pclass']\n",
    "\n",
    "pattern = r\"\\b(Master|Mr|Mrs|Ms|Dr|Miss|Sir|Rev|Capt|Lady|Col|Countess|Don|Jonkheer|Major|Mlle|Mme)\\.\"\n",
    "vectorized_find = np.vectorize(lambda x: re.findall(pattern, x, flags=re.IGNORECASE), otypes=[object])\n",
    "titles_found = vectorized_find(np.array(df_test_raw['Name']))\n",
    "titles_only = [titles[0].capitalize() if titles else 'Unknown' for titles in titles_found]\n",
    "title_to_int = {title: i for i, title in enumerate(sorted(set(titles_only)))}\n",
    "title_encoded = [title_to_int[title] for title in titles_only]\n",
    "df_test['Title'] = title_encoded\n",
    "\n",
    "df_test_raw['Age'] = df_test_raw['Age'].fillna(-1)\n",
    "bins = np.arange(-5, df_test_raw['Age'].max() + 10, 5)\n",
    "labels = list(range(len(bins) - 1))\n",
    "df_test['Age'] = pd.cut(df_test_raw['Age'], bins=bins, labels=labels, right=False, include_lowest=True)\n",
    "\n",
    "df_test['FamilySize'] = df_test_raw['SibSp'] + df_test_raw['Parch']\n",
    "\n",
    "df_test_raw['Fare'] = df_test_raw['Fare'].fillna(-1)\n",
    "bins = np.arange(-20, df_test_raw['Fare'].max() + 20, 20)\n",
    "labels = list(range(len(bins) - 1))\n",
    "df_test['Fare'] = pd.cut(df_test_raw['Fare'], bins=bins, labels=labels, right=False, include_lowest=True)\n",
    "\n",
    "df_test['Cabin_Letter'] = df_test_raw['Cabin'].apply(get_cabin_letter)\n",
    "df_test['Cabin_Letter'] = df_test['Cabin_Letter'].astype('category').cat.codes\n",
    "df_test.loc[df_test['Cabin_Letter'].isnull(), 'Cabin_Letter'] = -1\n",
    "\n",
    "df_test['Cabin_Number'] = df_test_raw['Cabin'].apply(get_cabin_number)\n",
    "\n",
    "\n",
    "df_test_raw['Embarked'] = df_test_raw['Embarked'].fillna(-1)\n",
    "df_test['Embarked'] = pd.DataFrame({'Embarked': df_test_raw['Embarked'].map({-1: -1, 'C': 0, 'S': 1, 'Q': 2})})\n",
    "\n",
    "print(f\"# of training data missing after further clean up: {len(get_missing_coordinates(df_test))}\")"
   ]
  },
  {
   "cell_type": "markdown",
   "id": "8c823163",
   "metadata": {},
   "source": [
    "Save clean data:"
   ]
  },
  {
   "cell_type": "code",
   "execution_count": 41,
   "id": "41c38f59",
   "metadata": {},
   "outputs": [],
   "source": [
    "df_train.to_csv('attempt_2/training_data.csv', index=False)\n",
    "df_test.to_csv('attempt_2/test_data.csv', index=False)"
   ]
  }
 ],
 "metadata": {
  "kernelspec": {
   "display_name": "base",
   "language": "python",
   "name": "python3"
  },
  "language_info": {
   "codemirror_mode": {
    "name": "ipython",
    "version": 3
   },
   "file_extension": ".py",
   "mimetype": "text/x-python",
   "name": "python",
   "nbconvert_exporter": "python",
   "pygments_lexer": "ipython3",
   "version": "3.10.14"
  }
 },
 "nbformat": 4,
 "nbformat_minor": 5
}
