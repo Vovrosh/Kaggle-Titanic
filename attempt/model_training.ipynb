{
 "cells": [
  {
   "cell_type": "markdown",
   "id": "1c75a753",
   "metadata": {},
   "source": [
    "Import packages"
   ]
  },
  {
   "cell_type": "code",
   "execution_count": 11,
   "id": "a0f84e30",
   "metadata": {},
   "outputs": [],
   "source": [
    "import pandas as pd\n",
    "import os\n",
    "os.chdir(r\"c:\\Users\\JosephVovrosh\\personal_git\\Kaggle-Titanic\")\n",
    "df_train = pd.read_csv('attempt_2/training_data.csv')\n",
    "df_test = pd.read_csv('attempt_2/test_data.csv')\n",
    "\n",
    "from sklearn.model_selection import train_test_split\n",
    "from sklearn.preprocessing import StandardScaler\n",
    "from sklearn.linear_model import LogisticRegression\n",
    "from sklearn.svm import SVC\n",
    "from sklearn.ensemble import RandomForestClassifier, GradientBoostingClassifier\n",
    "from sklearn.neighbors import KNeighborsClassifier\n",
    "from sklearn.metrics import accuracy_score\n",
    "import numpy as np"
   ]
  },
  {
   "cell_type": "markdown",
   "id": "1014eab8",
   "metadata": {},
   "source": [
    "Train the model:"
   ]
  },
  {
   "cell_type": "code",
   "execution_count": 12,
   "id": "b6d1b507",
   "metadata": {},
   "outputs": [
    {
     "name": "stdout",
     "output_type": "stream",
     "text": [
      "Logistic Regression → Mean Error: 0.7973, Std Dev: 0.0258\n",
      "SVM → Mean Error: 0.8207, Std Dev: 0.0237\n",
      "Random Forest → Mean Error: 0.8094, Std Dev: 0.0252\n",
      "Gradient Boosting → Mean Error: 0.8234, Std Dev: 0.0240\n",
      "KNN → Mean Error: 0.8109, Std Dev: 0.0285\n"
     ]
    }
   ],
   "source": [
    "# Your data\n",
    "X = df_train.drop('Survived', axis=1)\n",
    "y = df_train['Survived']\n",
    "\n",
    "# Dictionary of models to evaluate\n",
    "models = {\n",
    "    \"Logistic Regression\": LogisticRegression(max_iter=1000),\n",
    "    \"SVM\": SVC(),\n",
    "    \"Random Forest\": RandomForestClassifier(n_estimators=100),\n",
    "    \"Gradient Boosting\": GradientBoostingClassifier(),\n",
    "    \"KNN\": KNeighborsClassifier(n_neighbors=5)\n",
    "}\n",
    "\n",
    "# Loop through models and evaluate\n",
    "for model_name, model in models.items():\n",
    "    mse_trials = []\n",
    "\n",
    "    for _ in range(100):\n",
    "        X_train, X_test, y_train, y_test = train_test_split(X, y, test_size=0.2)\n",
    "\n",
    "        scaler = StandardScaler()\n",
    "        X_train_scaled = scaler.fit_transform(X_train)\n",
    "        X_test_scaled = scaler.transform(X_test)\n",
    "\n",
    "        model.fit(X_train_scaled, y_train)\n",
    "        y_pred = model.predict(X_test_scaled)\n",
    "\n",
    "        mse = accuracy_score(y_test, y_pred)\n",
    "        mse_trials.append(mse)\n",
    "\n",
    "    print(f\"{model_name} → Mean Error: {np.mean(mse_trials):.4f}, Std Dev: {np.std(mse_trials):.4f}\")\n"
   ]
  }
 ],
 "metadata": {
  "kernelspec": {
   "display_name": "base",
   "language": "python",
   "name": "python3"
  },
  "language_info": {
   "codemirror_mode": {
    "name": "ipython",
    "version": 3
   },
   "file_extension": ".py",
   "mimetype": "text/x-python",
   "name": "python",
   "nbconvert_exporter": "python",
   "pygments_lexer": "ipython3",
   "version": "3.10.14"
  }
 },
 "nbformat": 4,
 "nbformat_minor": 5
}
