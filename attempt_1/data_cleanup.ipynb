{
 "cells": [
  {
   "cell_type": "markdown",
   "id": "0d75d56d",
   "metadata": {},
   "source": [
    "In the following we implement the most simple approach - removing all rows with missing data - to set a benchmark for more complicated data handling."
   ]
  },
  {
   "cell_type": "markdown",
   "id": "8c8de087",
   "metadata": {},
   "source": [
    "Import packages ans raw_training data:"
   ]
  },
  {
   "cell_type": "code",
   "execution_count": 1,
   "id": "5add867a",
   "metadata": {},
   "outputs": [],
   "source": [
    "import pandas as pd\n",
    "import os\n",
    "\n",
    "os.chdir(r\"c:\\Users\\JosephVovrosh\\personal_git\\Kaggle-Titanic\")\n",
    "df_train_raw = pd.read_csv('data/train.csv')\n",
    "df_test_raw = pd.read_csv('data/test.csv')"
   ]
  },
  {
   "cell_type": "markdown",
   "id": "d5c0f3a0",
   "metadata": {},
   "source": [
    "In the following treatement of data we consider each type in a modular approach to allow for easy implementation of future improvements.\n",
    "\n",
    "Treatment:\n",
    "- Names ignored\n",
    "- Survived: unchanged\n",
    "- Pclass: unchanged\n",
    "- Sex: 0 for man, 1 for woman\n",
    "- Age: unchanged\n",
    "- SibSp: unchanged\n",
    "- Parch: unchanged\n",
    "- Ticket: Ignored\n",
    "- Fare: unchanged\n",
    "- Cabin: average of 1000*position in alphabet + number\n",
    "- Embarked: 0 for C, 1 for S"
   ]
  },
  {
   "cell_type": "code",
   "execution_count": 2,
   "id": "e4632bc6",
   "metadata": {},
   "outputs": [],
   "source": [
    "def get_missing_coordinates(df):\n",
    "    missing_coords = []\n",
    "    for row_idx, row in df.iterrows():\n",
    "        for col in df.columns:\n",
    "            if pd.isna(row[col]):\n",
    "                missing_coords.append((row_idx, col))\n",
    "    return missing_coords\n",
    "\n",
    "def average_cabin_value(code_string):\n",
    "    parts = code_string.strip().split()\n",
    "    total = 0\n",
    "\n",
    "    for part in parts:\n",
    "        if len(part) == 1:\n",
    "            return None\n",
    "        letter = part[0]\n",
    "        number = int(part[1:])\n",
    "        letter_value = ord(letter) - ord('A')\n",
    "        value = 1000 * letter_value + number\n",
    "        total += value\n",
    "\n",
    "    return total / len(parts)"
   ]
  },
  {
   "cell_type": "code",
   "execution_count": 3,
   "id": "fc79ef67",
   "metadata": {},
   "outputs": [],
   "source": [
    "df_train = df_train_raw.copy()\n",
    "df_train = df_train.drop('PassengerId', axis=1)\n",
    "df_train = df_train.drop('Name', axis=1)\n",
    "df_train = df_train.drop('Ticket', axis=1)\n",
    "\n",
    "df_test = df_test_raw.copy()\n",
    "df_test = df_test.drop('PassengerId', axis=1)\n",
    "df_test = df_test.drop('Name', axis=1)\n",
    "df_test = df_test.drop('Ticket', axis=1)"
   ]
  },
  {
   "cell_type": "code",
   "execution_count": 4,
   "id": "4e1b4a1d",
   "metadata": {},
   "outputs": [
    {
     "name": "stdout",
     "output_type": "stream",
     "text": [
      "# of training data missing: 866\n",
      "# of training data missing after clean up: 0\n",
      "# of test data missing: 414\n",
      "# of test data missing after clean up: 0\n"
     ]
    }
   ],
   "source": [
    "print(f\"# of training data missing: {len(get_missing_coordinates(df_train_raw))}\")\n",
    "df_train = df_train.dropna()\n",
    "print(f\"# of training data missing after clean up: {len(get_missing_coordinates(df_train))}\")\n",
    "\n",
    "\n",
    "print(f\"# of test data missing: {len(get_missing_coordinates(df_test_raw))}\")\n",
    "df_test = df_test.dropna()\n",
    "print(f\"# of test data missing after clean up: {len(get_missing_coordinates(df_test))}\")"
   ]
  },
  {
   "cell_type": "code",
   "execution_count": 5,
   "id": "e2131a14",
   "metadata": {},
   "outputs": [
    {
     "name": "stdout",
     "output_type": "stream",
     "text": [
      "# of training data missing after further clean up: 0\n"
     ]
    }
   ],
   "source": [
    "df_train_clean = df_train.copy()\n",
    "\n",
    "for index, row in df_train.iterrows():\n",
    "    new_row = row.copy()\n",
    "    new_row['Sex'] = 1 if row['Sex'] == 'female' else 0\n",
    "    new_row['Cabin'] = average_cabin_value(row['Cabin'])\n",
    "    new_row['Embarked'] = 1 if row['Embarked'] == 'S' else 0\n",
    "    df_train_clean.loc[index] = new_row\n",
    "\n",
    "df_train_clean = df_train_clean.dropna()\n",
    "df_train_clean.reset_index(drop=True, inplace=True)\n",
    "print(f\"# of training data missing after further clean up: {len(get_missing_coordinates(df_train_clean))}\")"
   ]
  },
  {
   "cell_type": "code",
   "execution_count": 6,
   "id": "029cea82",
   "metadata": {},
   "outputs": [
    {
     "name": "stdout",
     "output_type": "stream",
     "text": [
      "# of test data missing after further clean up: 0\n"
     ]
    }
   ],
   "source": [
    "df_test_clean = df_test.copy()\n",
    "\n",
    "for index, row in df_test.iterrows():\n",
    "    new_row = row.copy()\n",
    "    new_row['Sex'] = 1 if row['Sex'] == 'female' else 0\n",
    "    new_row['Cabin'] = average_cabin_value(row['Cabin'])\n",
    "    new_row['Embarked'] = 1 if row['Embarked'] == 'S' else 0\n",
    "    df_test_clean.loc[index] = new_row\n",
    "\n",
    "df_test_clean = df_test_clean.dropna()\n",
    "df_test_clean.reset_index(drop=True, inplace=True)\n",
    "print(f\"# of test data missing after further clean up: {len(get_missing_coordinates(df_test_clean))}\")"
   ]
  },
  {
   "cell_type": "markdown",
   "id": "8c823163",
   "metadata": {},
   "source": [
    "Save clean data:"
   ]
  },
  {
   "cell_type": "code",
   "execution_count": 7,
   "id": "41c38f59",
   "metadata": {},
   "outputs": [],
   "source": [
    "df_train_clean.to_csv('attempt_1/training_data.csv', index=False)\n",
    "df_test_clean.to_csv('attempt_1/test_data.csv', index=False)"
   ]
  }
 ],
 "metadata": {
  "kernelspec": {
   "display_name": "venv",
   "language": "python",
   "name": "python3"
  },
  "language_info": {
   "codemirror_mode": {
    "name": "ipython",
    "version": 3
   },
   "file_extension": ".py",
   "mimetype": "text/x-python",
   "name": "python",
   "nbconvert_exporter": "python",
   "pygments_lexer": "ipython3",
   "version": "3.10.14"
  }
 },
 "nbformat": 4,
 "nbformat_minor": 5
}
