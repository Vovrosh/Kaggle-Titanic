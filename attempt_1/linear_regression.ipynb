{
 "cells": [
  {
   "cell_type": "markdown",
   "id": "1c75a753",
   "metadata": {},
   "source": [
    "Import packages"
   ]
  },
  {
   "cell_type": "code",
   "execution_count": null,
   "id": "a0f84e30",
   "metadata": {},
   "outputs": [],
   "source": [
    "import os\n",
    "os.chdir(r\"c:\\Users\\JosephVovrosh\\personal_git\\Kaggle-Titanic\")\n",
    "df_train = pd.read_csv('attempt_1/training_data.csv')\n",
    "df_test = pd.read_csv('attempt_1/test_data.csv')\n",
    "\n",
    "import pandas as pd\n",
    "import numpy as np\n",
    "\n",
    "from sklearn.linear_model import LogisticRegression\n",
    "from sklearn.model_selection import train_test_split\n",
    "from sklearn.metrics import mean_squared_error\n",
    "from sklearn.preprocessing import StandardScaler"
   ]
  },
  {
   "cell_type": "markdown",
   "id": "1014eab8",
   "metadata": {},
   "source": [
    "Train the model:"
   ]
  },
  {
   "cell_type": "code",
   "execution_count": 94,
   "id": "cf4da59d",
   "metadata": {},
   "outputs": [
    {
     "name": "stdout",
     "output_type": "stream",
     "text": [
      "Mean Squared Error: 0.27777777777777773\n"
     ]
    }
   ],
   "source": [
    "X_train = df_train.drop('Survived', axis=1)\n",
    "y_train = df_train['Survived']\n",
    "\n",
    "X_train, X_train_test, y_train, y_train_test = train_test_split(X_train, y_train, test_size=0.1)\n",
    "\n",
    "scaler = StandardScaler()\n",
    "X_train = scaler.fit_transform(X_train)\n",
    "\n",
    "mse_trials = []\n",
    "\n",
    "for _ in range(100):\n",
    "    # Initialize and train the model\n",
    "    model = LogisticRegression(max_iter=1000)\n",
    "    model.fit(X_train, y_train)\n",
    "\n",
    "    X_train_test = scaler.fit_transform(X_train_test)\n",
    "\n",
    "    # Predict on the test set\n",
    "    y_pred = model.predict(X_train_test)\n",
    "\n",
    "    # Evaluate the model\n",
    "    mse = mean_squared_error(y_train_test, y_pred)\n",
    "\n",
    "    mse_trials.append(mse)\n",
    "\n",
    "print(\"Mean Squared Error:\", np.mean(mse_trials))\n"
   ]
  },
  {
   "cell_type": "markdown",
   "id": "e28214d5",
   "metadata": {},
   "source": [
    "Make preditions:"
   ]
  },
  {
   "cell_type": "code",
   "execution_count": 93,
   "id": "a1ac27d7",
   "metadata": {},
   "outputs": [
    {
     "data": {
      "text/plain": [
       "array([1, 1, 1, 1, 0, 1, 1, 0, 1, 1, 1, 1, 1, 1, 1, 1, 1, 1, 1, 0, 1, 1,\n",
       "       1, 1, 1, 1, 1, 1, 0, 0, 1, 1, 0, 0, 0, 1, 1, 0, 1, 1, 1, 0, 1, 0,\n",
       "       1, 1, 1, 0, 1, 0, 0, 1, 0, 1, 1, 0, 1, 0, 0, 1, 0, 0, 1, 1, 0, 1,\n",
       "       1, 0, 1, 1, 1, 0, 1, 0, 1, 1, 1, 1, 1, 0, 1, 0, 1, 1], dtype=int64)"
      ]
     },
     "execution_count": 93,
     "metadata": {},
     "output_type": "execute_result"
    }
   ],
   "source": [
    "X_test = df_test\n",
    "X_test = scaler.fit_transform(X_test)\n",
    "\n",
    "y_pred = model.predict(X_test)\n",
    "y_pred"
   ]
  },
  {
   "cell_type": "code",
   "execution_count": null,
   "id": "1a2e384c",
   "metadata": {},
   "outputs": [],
   "source": []
  }
 ],
 "metadata": {
  "kernelspec": {
   "display_name": "base",
   "language": "python",
   "name": "python3"
  },
  "language_info": {
   "codemirror_mode": {
    "name": "ipython",
    "version": 3
   },
   "file_extension": ".py",
   "mimetype": "text/x-python",
   "name": "python",
   "nbconvert_exporter": "python",
   "pygments_lexer": "ipython3",
   "version": "3.10.14"
  }
 },
 "nbformat": 4,
 "nbformat_minor": 5
}
